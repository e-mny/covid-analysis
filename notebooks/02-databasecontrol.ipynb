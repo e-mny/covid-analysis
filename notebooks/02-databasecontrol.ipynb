{
 "cells": [
  {
   "cell_type": "markdown",
   "metadata": {},
   "source": [
    "# Analysis of COVID-19 Cases in the world"
   ]
  },
  {
   "cell_type": "markdown",
   "metadata": {},
   "source": [
    "Some requirements:\n",
    "\n",
    "- Convert data into tidy format\n",
    "- Export to normalized tables in SQLite3 Database\n",
    "- Use SQL statements (from within pandas) to retrieve data needed for each visualization"
   ]
  },
  {
   "cell_type": "code",
   "execution_count": 36,
   "metadata": {},
   "outputs": [],
   "source": [
    "import numpy as np\n",
    "import pandas as pd\n",
    "import sqlite3\n",
    "from sqlite3 import Error"
   ]
  },
  {
   "cell_type": "code",
   "execution_count": 37,
   "metadata": {},
   "outputs": [
    {
     "data": {
      "text/html": [
       "<div>\n",
       "<style scoped>\n",
       "    .dataframe tbody tr th:only-of-type {\n",
       "        vertical-align: middle;\n",
       "    }\n",
       "\n",
       "    .dataframe tbody tr th {\n",
       "        vertical-align: top;\n",
       "    }\n",
       "\n",
       "    .dataframe thead th {\n",
       "        text-align: right;\n",
       "    }\n",
       "</style>\n",
       "<table border=\"1\" class=\"dataframe\">\n",
       "  <thead>\n",
       "    <tr style=\"text-align: right;\">\n",
       "      <th></th>\n",
       "      <th>Country</th>\n",
       "      <th>Continent</th>\n",
       "      <th>Date</th>\n",
       "      <th>Average temperature per year</th>\n",
       "      <th>Hospital beds per 1000 people</th>\n",
       "      <th>Medical doctors per 1000 people</th>\n",
       "      <th>GDP/Capita</th>\n",
       "      <th>Population</th>\n",
       "      <th>Median age</th>\n",
       "      <th>Population aged 65 and over (%)</th>\n",
       "      <th>Daily tests</th>\n",
       "      <th>Cases</th>\n",
       "      <th>Deaths</th>\n",
       "    </tr>\n",
       "  </thead>\n",
       "  <tbody>\n",
       "    <tr>\n",
       "      <th>0</th>\n",
       "      <td>Albania</td>\n",
       "      <td>Europe</td>\n",
       "      <td>2020-02-25</td>\n",
       "      <td>14</td>\n",
       "      <td>2.89</td>\n",
       "      <td>1.29</td>\n",
       "      <td>5353.2</td>\n",
       "      <td>2873457</td>\n",
       "      <td>38</td>\n",
       "      <td>14</td>\n",
       "      <td>8.0</td>\n",
       "      <td>NaN</td>\n",
       "      <td>NaN</td>\n",
       "    </tr>\n",
       "    <tr>\n",
       "      <th>1</th>\n",
       "      <td>Albania</td>\n",
       "      <td>Europe</td>\n",
       "      <td>2020-02-26</td>\n",
       "      <td>14</td>\n",
       "      <td>2.89</td>\n",
       "      <td>1.29</td>\n",
       "      <td>5353.2</td>\n",
       "      <td>2873457</td>\n",
       "      <td>38</td>\n",
       "      <td>14</td>\n",
       "      <td>5.0</td>\n",
       "      <td>NaN</td>\n",
       "      <td>NaN</td>\n",
       "    </tr>\n",
       "    <tr>\n",
       "      <th>2</th>\n",
       "      <td>Albania</td>\n",
       "      <td>Europe</td>\n",
       "      <td>2020-02-27</td>\n",
       "      <td>14</td>\n",
       "      <td>2.89</td>\n",
       "      <td>1.29</td>\n",
       "      <td>5353.2</td>\n",
       "      <td>2873457</td>\n",
       "      <td>38</td>\n",
       "      <td>14</td>\n",
       "      <td>4.0</td>\n",
       "      <td>NaN</td>\n",
       "      <td>NaN</td>\n",
       "    </tr>\n",
       "    <tr>\n",
       "      <th>3</th>\n",
       "      <td>Albania</td>\n",
       "      <td>Europe</td>\n",
       "      <td>2020-02-28</td>\n",
       "      <td>14</td>\n",
       "      <td>2.89</td>\n",
       "      <td>1.29</td>\n",
       "      <td>5353.2</td>\n",
       "      <td>2873457</td>\n",
       "      <td>38</td>\n",
       "      <td>14</td>\n",
       "      <td>1.0</td>\n",
       "      <td>NaN</td>\n",
       "      <td>NaN</td>\n",
       "    </tr>\n",
       "    <tr>\n",
       "      <th>4</th>\n",
       "      <td>Albania</td>\n",
       "      <td>Europe</td>\n",
       "      <td>2020-02-29</td>\n",
       "      <td>14</td>\n",
       "      <td>2.89</td>\n",
       "      <td>1.29</td>\n",
       "      <td>5353.2</td>\n",
       "      <td>2873457</td>\n",
       "      <td>38</td>\n",
       "      <td>14</td>\n",
       "      <td>8.0</td>\n",
       "      <td>NaN</td>\n",
       "      <td>NaN</td>\n",
       "    </tr>\n",
       "  </tbody>\n",
       "</table>\n",
       "</div>"
      ],
      "text/plain": [
       "   Country Continent        Date  Average temperature per year  \\\n",
       "0  Albania    Europe  2020-02-25                            14   \n",
       "1  Albania    Europe  2020-02-26                            14   \n",
       "2  Albania    Europe  2020-02-27                            14   \n",
       "3  Albania    Europe  2020-02-28                            14   \n",
       "4  Albania    Europe  2020-02-29                            14   \n",
       "\n",
       "   Hospital beds per 1000 people  Medical doctors per 1000 people  GDP/Capita  \\\n",
       "0                           2.89                             1.29      5353.2   \n",
       "1                           2.89                             1.29      5353.2   \n",
       "2                           2.89                             1.29      5353.2   \n",
       "3                           2.89                             1.29      5353.2   \n",
       "4                           2.89                             1.29      5353.2   \n",
       "\n",
       "   Population  Median age  Population aged 65 and over (%)  Daily tests  \\\n",
       "0     2873457          38                               14          8.0   \n",
       "1     2873457          38                               14          5.0   \n",
       "2     2873457          38                               14          4.0   \n",
       "3     2873457          38                               14          1.0   \n",
       "4     2873457          38                               14          8.0   \n",
       "\n",
       "   Cases  Deaths  \n",
       "0    NaN     NaN  \n",
       "1    NaN     NaN  \n",
       "2    NaN     NaN  \n",
       "3    NaN     NaN  \n",
       "4    NaN     NaN  "
      ]
     },
     "execution_count": 37,
     "metadata": {},
     "output_type": "execute_result"
    }
   ],
   "source": [
    "# Load clean dataset \n",
    "normalized_table = pd.read_csv(\"../data/clean/CleanData.csv\").iloc[:, 1:]\n",
    "normalized_table.head()"
   ]
  },
  {
   "cell_type": "code",
   "execution_count": 50,
   "metadata": {},
   "outputs": [
    {
     "data": {
      "text/html": [
       "<div>\n",
       "<style scoped>\n",
       "    .dataframe tbody tr th:only-of-type {\n",
       "        vertical-align: middle;\n",
       "    }\n",
       "\n",
       "    .dataframe tbody tr th {\n",
       "        vertical-align: top;\n",
       "    }\n",
       "\n",
       "    .dataframe thead th {\n",
       "        text-align: right;\n",
       "    }\n",
       "</style>\n",
       "<table border=\"1\" class=\"dataframe\">\n",
       "  <thead>\n",
       "    <tr style=\"text-align: right;\">\n",
       "      <th></th>\n",
       "      <th>Country</th>\n",
       "      <th>Latitude</th>\n",
       "      <th>Longitude</th>\n",
       "    </tr>\n",
       "  </thead>\n",
       "  <tbody>\n",
       "    <tr>\n",
       "      <th>0</th>\n",
       "      <td>Albania</td>\n",
       "      <td>41.15</td>\n",
       "      <td>20.17</td>\n",
       "    </tr>\n",
       "    <tr>\n",
       "      <th>1</th>\n",
       "      <td>Algeria</td>\n",
       "      <td>28.03</td>\n",
       "      <td>1.66</td>\n",
       "    </tr>\n",
       "    <tr>\n",
       "      <th>2</th>\n",
       "      <td>Argentina</td>\n",
       "      <td>-38.42</td>\n",
       "      <td>-63.62</td>\n",
       "    </tr>\n",
       "    <tr>\n",
       "      <th>3</th>\n",
       "      <td>Armenia</td>\n",
       "      <td>40.07</td>\n",
       "      <td>45.04</td>\n",
       "    </tr>\n",
       "    <tr>\n",
       "      <th>4</th>\n",
       "      <td>Australia</td>\n",
       "      <td>-25.27</td>\n",
       "      <td>133.78</td>\n",
       "    </tr>\n",
       "    <tr>\n",
       "      <th>...</th>\n",
       "      <td>...</td>\n",
       "      <td>...</td>\n",
       "      <td>...</td>\n",
       "    </tr>\n",
       "    <tr>\n",
       "      <th>99</th>\n",
       "      <td>United States</td>\n",
       "      <td>37.09</td>\n",
       "      <td>-95.71</td>\n",
       "    </tr>\n",
       "    <tr>\n",
       "      <th>100</th>\n",
       "      <td>Uruguay</td>\n",
       "      <td>-32.52</td>\n",
       "      <td>-55.77</td>\n",
       "    </tr>\n",
       "    <tr>\n",
       "      <th>101</th>\n",
       "      <td>Vietnam</td>\n",
       "      <td>14.06</td>\n",
       "      <td>108.28</td>\n",
       "    </tr>\n",
       "    <tr>\n",
       "      <th>102</th>\n",
       "      <td>Zambia</td>\n",
       "      <td>-13.13</td>\n",
       "      <td>27.85</td>\n",
       "    </tr>\n",
       "    <tr>\n",
       "      <th>103</th>\n",
       "      <td>Zimbabwe</td>\n",
       "      <td>-19.02</td>\n",
       "      <td>29.15</td>\n",
       "    </tr>\n",
       "  </tbody>\n",
       "</table>\n",
       "<p>104 rows × 3 columns</p>\n",
       "</div>"
      ],
      "text/plain": [
       "           Country  Latitude  Longitude\n",
       "0          Albania     41.15      20.17\n",
       "1          Algeria     28.03       1.66\n",
       "2        Argentina    -38.42     -63.62\n",
       "3          Armenia     40.07      45.04\n",
       "4        Australia    -25.27     133.78\n",
       "..             ...       ...        ...\n",
       "99   United States     37.09     -95.71\n",
       "100        Uruguay    -32.52     -55.77\n",
       "101        Vietnam     14.06     108.28\n",
       "102         Zambia    -13.13      27.85\n",
       "103       Zimbabwe    -19.02      29.15\n",
       "\n",
       "[104 rows x 3 columns]"
      ]
     },
     "execution_count": 50,
     "metadata": {},
     "output_type": "execute_result"
    }
   ],
   "source": [
    "# Load country details\n",
    "country_details = pd.read_csv(\"../data/clean/CountryDetails.csv\").iloc[:, 1:]\n",
    "country_details"
   ]
  },
  {
   "cell_type": "code",
   "execution_count": 57,
   "metadata": {},
   "outputs": [],
   "source": [
    "# Connecting database using SQLite3\n",
    "\n",
    "conn = sqlite3.connect(\"../database/data.db\")\n",
    "cur = conn.cursor()"
   ]
  },
  {
   "cell_type": "code",
   "execution_count": 26,
   "metadata": {},
   "outputs": [
    {
     "name": "stdout",
     "output_type": "stream",
     "text": [
      "{'Asia', 'North America', 'Europe', 'South America', 'Africa', 'Oceania'}\n"
     ]
    }
   ],
   "source": [
    "# Continents\n",
    "print((set(normalized_table['Continent'])))"
   ]
  },
  {
   "cell_type": "code",
   "execution_count": 53,
   "metadata": {},
   "outputs": [
    {
     "data": {
      "text/plain": [
       "104"
      ]
     },
     "execution_count": 53,
     "metadata": {},
     "output_type": "execute_result"
    }
   ],
   "source": [
    "# Insert dataframe into SQL Table\n",
    "\n",
    "normalized_table.to_sql(name=\"covidstats\", con=conn, index=False)\n",
    "country_details.to_sql(name=\"countries\", con=conn, index=False)"
   ]
  },
  {
   "cell_type": "code",
   "execution_count": 64,
   "metadata": {},
   "outputs": [],
   "source": [
    "# Experimenting with SQL Code\n",
    "\n",
    "# row_list = []\n",
    "# for row in cur.execute(\"SELECT * FROM countries\"):\n",
    "#     row_list.append(row)\n"
   ]
  },
  {
   "cell_type": "code",
   "execution_count": 52,
   "metadata": {},
   "outputs": [
    {
     "data": {
      "text/plain": [
       "<sqlite3.Cursor at 0x168221e40>"
      ]
     },
     "execution_count": 52,
     "metadata": {},
     "output_type": "execute_result"
    }
   ],
   "source": [
    "# To delete database, uncomment the code and run this cell\n",
    "\n",
    "# cur.execute(\"DROP TABLE covidstats\")"
   ]
  },
  {
   "cell_type": "code",
   "execution_count": 56,
   "metadata": {},
   "outputs": [],
   "source": [
    "# Close connection\n",
    "\n",
    "conn.close()"
   ]
  }
 ],
 "metadata": {
  "kernelspec": {
   "display_name": "Python 3.10.8 ('data_analysis')",
   "language": "python",
   "name": "python3"
  },
  "language_info": {
   "codemirror_mode": {
    "name": "ipython",
    "version": 3
   },
   "file_extension": ".py",
   "mimetype": "text/x-python",
   "name": "python",
   "nbconvert_exporter": "python",
   "pygments_lexer": "ipython3",
   "version": "3.10.8"
  },
  "orig_nbformat": 4,
  "vscode": {
   "interpreter": {
    "hash": "b062ed105c1a98d4092c587b126bf03ed204664bd1d549e257d56820b09f3c48"
   }
  }
 },
 "nbformat": 4,
 "nbformat_minor": 2
}
