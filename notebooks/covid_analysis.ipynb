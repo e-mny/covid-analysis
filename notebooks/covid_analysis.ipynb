{
 "cells": [
  {
   "cell_type": "markdown",
   "metadata": {},
   "source": [
    "# Analysis of COVID-19 Cases in the world\n"
   ]
  },
  {
   "cell_type": "markdown",
   "metadata": {},
   "source": [
    "Some requirements:\n",
    "\n",
    "- Convert data into tidy format\n",
    "- Export to normalized tables in SQLite3 Database\n",
    "- Use SQL statements (from within pandas) to retrieve data needed for each visualization"
   ]
  },
  {
   "cell_type": "code",
   "execution_count": null,
   "metadata": {},
   "outputs": [],
   "source": [
    "import numpy as np\n",
    "import pandas as pd\n",
    "import matplotlib.pyplot as plt"
   ]
  }
 ],
 "metadata": {
  "kernelspec": {
   "display_name": "Python 3.10.8 ('data_analysis')",
   "language": "python",
   "name": "python3"
  },
  "language_info": {
   "name": "python",
   "version": "3.10.8"
  },
  "orig_nbformat": 4,
  "vscode": {
   "interpreter": {
    "hash": "b062ed105c1a98d4092c587b126bf03ed204664bd1d549e257d56820b09f3c48"
   }
  }
 },
 "nbformat": 4,
 "nbformat_minor": 2
}
