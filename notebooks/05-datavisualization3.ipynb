{
 "cells": [
  {
   "cell_type": "markdown",
   "metadata": {},
   "source": [
    "# Analysis of COVID-19 Cases in the world"
   ]
  },
  {
   "cell_type": "markdown",
   "metadata": {},
   "source": [
    "Some requirements:\n",
    "\n",
    "- ~~Convert data into tidy format~~\n",
    "- ~~Export to normalized tables in SQLite3 Database~~\n",
    "- Use SQL statements (from within pandas) to retrieve data needed for each visualization"
   ]
  },
  {
   "cell_type": "markdown",
   "metadata": {},
   "source": [
    "### Visualization 3:\n",
    "#### Does a higher GDP/Capita means there is less lower death percentage of the population?"
   ]
  },
  {
   "cell_type": "code",
   "execution_count": 1,
   "metadata": {},
   "outputs": [],
   "source": [
    "import numpy as np\n",
    "import pandas as pd\n",
    "import matplotlib.pyplot as plt\n",
    "import sqlite3"
   ]
  },
  {
   "cell_type": "code",
   "execution_count": 2,
   "metadata": {},
   "outputs": [],
   "source": [
    "# Connecting database using SQLite3\n",
    "\n",
    "conn = sqlite3.connect(\"../database/data.db\")\n",
    "cur = conn.cursor()"
   ]
  },
  {
   "cell_type": "code",
   "execution_count": 9,
   "metadata": {},
   "outputs": [
    {
     "data": {
      "text/html": [
       "<div>\n",
       "<style scoped>\n",
       "    .dataframe tbody tr th:only-of-type {\n",
       "        vertical-align: middle;\n",
       "    }\n",
       "\n",
       "    .dataframe tbody tr th {\n",
       "        vertical-align: top;\n",
       "    }\n",
       "\n",
       "    .dataframe thead th {\n",
       "        text-align: right;\n",
       "    }\n",
       "</style>\n",
       "<table border=\"1\" class=\"dataframe\">\n",
       "  <thead>\n",
       "    <tr style=\"text-align: right;\">\n",
       "      <th></th>\n",
       "      <th>Country</th>\n",
       "      <th>GDP/Capita</th>\n",
       "      <th>Population</th>\n",
       "      <th>Total Deaths</th>\n",
       "      <th>% Death</th>\n",
       "    </tr>\n",
       "  </thead>\n",
       "  <tbody>\n",
       "    <tr>\n",
       "      <th>0</th>\n",
       "      <td>Albania</td>\n",
       "      <td>5353.2</td>\n",
       "      <td>2873457</td>\n",
       "      <td>171892.0</td>\n",
       "      <td>5.982063</td>\n",
       "    </tr>\n",
       "    <tr>\n",
       "      <th>1</th>\n",
       "      <td>Algeria</td>\n",
       "      <td>3974.0</td>\n",
       "      <td>41318142</td>\n",
       "      <td>547843.0</td>\n",
       "      <td>1.325914</td>\n",
       "    </tr>\n",
       "    <tr>\n",
       "      <th>2</th>\n",
       "      <td>Argentina</td>\n",
       "      <td>9912.3</td>\n",
       "      <td>44271041</td>\n",
       "      <td>6622663.0</td>\n",
       "      <td>14.959357</td>\n",
       "    </tr>\n",
       "    <tr>\n",
       "      <th>3</th>\n",
       "      <td>Armenia</td>\n",
       "      <td>4622.7</td>\n",
       "      <td>2930450</td>\n",
       "      <td>428678.0</td>\n",
       "      <td>14.628402</td>\n",
       "    </tr>\n",
       "    <tr>\n",
       "      <th>4</th>\n",
       "      <td>Australia</td>\n",
       "      <td>55060.3</td>\n",
       "      <td>24598933</td>\n",
       "      <td>186575.0</td>\n",
       "      <td>0.758468</td>\n",
       "    </tr>\n",
       "    <tr>\n",
       "      <th>...</th>\n",
       "      <td>...</td>\n",
       "      <td>...</td>\n",
       "      <td>...</td>\n",
       "      <td>...</td>\n",
       "      <td>...</td>\n",
       "    </tr>\n",
       "    <tr>\n",
       "      <th>99</th>\n",
       "      <td>United States</td>\n",
       "      <td>65297.5</td>\n",
       "      <td>325719178</td>\n",
       "      <td>73071478.0</td>\n",
       "      <td>22.433889</td>\n",
       "    </tr>\n",
       "    <tr>\n",
       "      <th>100</th>\n",
       "      <td>Uruguay</td>\n",
       "      <td>16190.1</td>\n",
       "      <td>3456750</td>\n",
       "      <td>36814.0</td>\n",
       "      <td>1.064989</td>\n",
       "    </tr>\n",
       "    <tr>\n",
       "      <th>101</th>\n",
       "      <td>Vietnam</td>\n",
       "      <td>2715.3</td>\n",
       "      <td>95540800</td>\n",
       "      <td>6973.0</td>\n",
       "      <td>0.007298</td>\n",
       "    </tr>\n",
       "    <tr>\n",
       "      <th>102</th>\n",
       "      <td>Zambia</td>\n",
       "      <td>1305.1</td>\n",
       "      <td>17094130</td>\n",
       "      <td>96458.0</td>\n",
       "      <td>0.564276</td>\n",
       "    </tr>\n",
       "    <tr>\n",
       "      <th>103</th>\n",
       "      <td>Zimbabwe</td>\n",
       "      <td>1464.0</td>\n",
       "      <td>16529904</td>\n",
       "      <td>98448.0</td>\n",
       "      <td>0.595575</td>\n",
       "    </tr>\n",
       "  </tbody>\n",
       "</table>\n",
       "<p>104 rows × 5 columns</p>\n",
       "</div>"
      ],
      "text/plain": [
       "           Country  GDP/Capita  Population  Total Deaths    % Death\n",
       "0          Albania      5353.2     2873457      171892.0   5.982063\n",
       "1          Algeria      3974.0    41318142      547843.0   1.325914\n",
       "2        Argentina      9912.3    44271041     6622663.0  14.959357\n",
       "3          Armenia      4622.7     2930450      428678.0  14.628402\n",
       "4        Australia     55060.3    24598933      186575.0   0.758468\n",
       "..             ...         ...         ...           ...        ...\n",
       "99   United States     65297.5   325719178    73071478.0  22.433889\n",
       "100        Uruguay     16190.1     3456750       36814.0   1.064989\n",
       "101        Vietnam      2715.3    95540800        6973.0   0.007298\n",
       "102         Zambia      1305.1    17094130       96458.0   0.564276\n",
       "103       Zimbabwe      1464.0    16529904       98448.0   0.595575\n",
       "\n",
       "[104 rows x 5 columns]"
      ]
     },
     "execution_count": 9,
     "metadata": {},
     "output_type": "execute_result"
    }
   ],
   "source": [
    "smalltable3_create = '''CREATE TABLE SMALLTABLE3 AS SELECT COUNTRY, `GDP/Capita`, Population, SUM(Deaths) AS `Total Deaths`, SUM(Deaths) / Population * 100 AS '% Death' FROM covidstats GROUP BY COUNTRY'''\n",
    "smalltable3_read = '''SELECT * FROM SMALLTABLE3'''\n",
    "\n",
    "cur.execute(smalltable3_create)\n",
    "smalltable3 = pd.read_sql_query(smalltable3_read, conn)\n",
    "smalltable3"
   ]
  },
  {
   "cell_type": "code",
   "execution_count": 10,
   "metadata": {},
   "outputs": [
    {
     "data": {
      "text/plain": [
       "[<matplotlib.lines.Line2D at 0x129527fa0>]"
      ]
     },
     "execution_count": 10,
     "metadata": {},
     "output_type": "execute_result"
    },
    {
     "data": {
      "image/png": "[encoded data removed]",
      "text/plain": [
       "<Figure size 640x480 with 1 Axes>"
      ]
     },
     "metadata": {},
     "output_type": "display_data"
    }
   ],
   "source": [
    "x = smalltable3['GDP/Capita']\n",
    "y = smalltable3['% Death']\n",
    "plt.xlabel(\"GDP/Capita\")\n",
    "plt.ylabel(\"% Death\")\n",
    "plt.plot(x, y, '*')"
   ]
  },
  {
   "cell_type": "markdown",
   "metadata": {},
   "source": [
    "### Conclusion\n",
    "\n",
    "- There is no correlation between having a higher GDP/Capita in a country would mean there is a smaller death rate in the country due to COVID"
   ]
  }
 ],
 "metadata": {
  "kernelspec": {
   "display_name": "Python 3.10.8 ('data_analysis')",
   "language": "python",
   "name": "python3"
  },
  "language_info": {
   "codemirror_mode": {
    "name": "ipython",
    "version": 3
   },
   "file_extension": ".py",
   "mimetype": "text/x-python",
   "name": "python",
   "nbconvert_exporter": "python",
   "pygments_lexer": "ipython3",
   "version": "3.10.8"
  },
  "orig_nbformat": 4,
  "vscode": {
   "interpreter": {
    "hash": "b062ed105c1a98d4092c587b126bf03ed204664bd1d549e257d56820b09f3c48"
   }
  }
 },
 "nbformat": 4,
 "nbformat_minor": 2
}
